{
 "cells": [
  {
   "cell_type": "markdown",
   "metadata": {},
   "source": [
    "# Naive Bayes Classification\n",
    "\n",
    "Notebook Author: Matthew Kearns"
   ]
  },
  {
   "cell_type": "markdown",
   "metadata": {},
   "source": [
    "Notebook Contents:\n",
    "    \n",
    "   - [Gaussian Naive Bayes Classification](#gaussian-NBC)\n",
    "   - [Multinomial Naive Bayes Classification](#multinomial-NBC)\n",
    "   - [Bernoulli Naive Bayes Classification](#bernoulli-NBC)"
   ]
  },
  {
   "cell_type": "markdown",
   "metadata": {},
   "source": [
    "Naive Bayes methods apply Bayes' theorem while making the \"naive\" assumption of independence between all features of a sample."
   ]
  },
  {
   "cell_type": "markdown",
   "metadata": {},
   "source": [
    "### Gaussian Naive Bayes Classification\n",
    "<a id='gaussian-NBC'></a>"
   ]
  },
  {
   "cell_type": "markdown",
   "metadata": {},
   "source": [
    "The Gaussian Naive Bayes classifier assumes the probability distribution of the input features to be Gaussian."
   ]
  },
  {
   "cell_type": "code",
   "execution_count": 4,
   "metadata": {},
   "outputs": [],
   "source": [
    "from sklearn.naive_bayes import GaussianNB\n",
    "from sklearn.datasets import load_iris"
   ]
  },
  {
   "cell_type": "code",
   "execution_count": 6,
   "metadata": {},
   "outputs": [],
   "source": [
    "iris = load_iris()\n",
    "X, y = iris.data, iris.target"
   ]
  },
  {
   "cell_type": "code",
   "execution_count": 21,
   "metadata": {},
   "outputs": [
    {
     "name": "stdout",
     "output_type": "stream",
     "text": [
      "Gaussian NBC Model\n",
      "\n",
      "\tAccuracy: 0.96\n"
     ]
    }
   ],
   "source": [
    "# initialize gaussian NB classifier\n",
    "gaussian_clf = GaussianNB()\n",
    "\n",
    "# fit model to the training data\n",
    "gaussian_clf.fit(X, y)\n",
    "\n",
    "# use trained model for prediction -- print score\n",
    "acc = gaussian_clf.score(X, y)\n",
    "print(\"Gaussian NBC Model\\n\\n\\tAccuracy:\", acc)"
   ]
  },
  {
   "cell_type": "markdown",
   "metadata": {},
   "source": [
    "### Multinomial Naive Bayes Classification\n",
    "<a id='multinomial-NBC'></a>"
   ]
  },
  {
   "cell_type": "markdown",
   "metadata": {},
   "source": [
    "Multinomial Naive Bayes classifiers are typically used for text classification. The Multinomial NBC use the relative frequency of each each feature for classification."
   ]
  },
  {
   "cell_type": "code",
   "execution_count": 2,
   "metadata": {},
   "outputs": [],
   "source": [
    "from sklearn.naive_bayes import MultinomialNB"
   ]
  },
  {
   "cell_type": "code",
   "execution_count": 22,
   "metadata": {},
   "outputs": [
    {
     "name": "stdout",
     "output_type": "stream",
     "text": [
      "Multinomial NBC Model\n",
      "\n",
      "\tAccuracy: 0.9533333333333334\n"
     ]
    }
   ],
   "source": [
    "# initialize multinomial NB classifier\n",
    "multinomial_clf = MultinomialNB()\n",
    "\n",
    "# fit model to the training data\n",
    "multinomial_clf.fit(X, y)\n",
    "\n",
    "# use fitted model to predict target labels -- print results\n",
    "acc = multinomial_clf.score(X, y)\n",
    "print(\"Multinomial NBC Model\\n\\n\\tAccuracy:\", acc)"
   ]
  },
  {
   "cell_type": "markdown",
   "metadata": {},
   "source": [
    "### Bernoulli Naive Bayes Classification\n",
    "<a id='bernoulli-NBC'></a>"
   ]
  },
  {
   "cell_type": "markdown",
   "metadata": {},
   "source": [
    "While the Multinomial NB classifier uses the relative frequencies of features occuring in an input, the Bernoulli Naive Bayes classifier simply uses their existence/absence for target prediction."
   ]
  },
  {
   "cell_type": "code",
   "execution_count": 3,
   "metadata": {},
   "outputs": [],
   "source": [
    "from sklearn.naive_bayes import BernoulliNB"
   ]
  },
  {
   "cell_type": "code",
   "execution_count": 23,
   "metadata": {},
   "outputs": [
    {
     "name": "stdout",
     "output_type": "stream",
     "text": [
      "Bernoulli NBC Model\n",
      "\n",
      "\tAccuracy: 0.3333333333333333\n"
     ]
    }
   ],
   "source": [
    "# initialize Bernoulli NC classifier\n",
    "bernoulli_clf = BernoulliNB()\n",
    "\n",
    "# fit model to training data\n",
    "bernoulli_clf.fit(X, y)\n",
    "\n",
    "# use fitted model to predict labels -- print score\n",
    "acc = bernoulli_clf.score(X, y)\n",
    "print(\"Bernoulli NBC Model\\n\\n\\tAccuracy:\", acc)"
   ]
  },
  {
   "cell_type": "code",
   "execution_count": null,
   "metadata": {},
   "outputs": [],
   "source": []
  }
 ],
 "metadata": {
  "kernelspec": {
   "display_name": "Python 3",
   "language": "python",
   "name": "python3"
  },
  "language_info": {
   "codemirror_mode": {
    "name": "ipython",
    "version": 3
   },
   "file_extension": ".py",
   "mimetype": "text/x-python",
   "name": "python",
   "nbconvert_exporter": "python",
   "pygments_lexer": "ipython3",
   "version": "3.6.2"
  }
 },
 "nbformat": 4,
 "nbformat_minor": 2
}
