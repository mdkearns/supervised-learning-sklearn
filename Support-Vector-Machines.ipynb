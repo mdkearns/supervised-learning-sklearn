{
 "cells": [
  {
   "cell_type": "markdown",
   "metadata": {},
   "source": [
    "# Scikit-Learn: Support Vector Machines (SVMs)\n",
    "\n",
    "Notebook Author: Matthew Kearns"
   ]
  },
  {
   "cell_type": "markdown",
   "metadata": {},
   "source": [
    "Support Vector Machines (SVMs) can be used for classification, regression, and novelty detection. The Scikit-Learn machine learning library can perform each of the aforementioned functions via the SVC (Support Vector Classification), SVR (Support Vector Regression), and OneClassSVM (for novelty and outlier detection) classes respectively."
   ]
  },
  {
   "cell_type": "markdown",
   "metadata": {},
   "source": [
    "Notebook Contents:\n",
    "    \n",
    "    - Support Vector Classification (SVC)\n",
    "    - Support Vector Regression (SVR)\n",
    "    - Additional"
   ]
  }
 ],
 "metadata": {
  "kernelspec": {
   "display_name": "Python 3",
   "language": "python",
   "name": "python3"
  },
  "language_info": {
   "codemirror_mode": {
    "name": "ipython",
    "version": 3
   },
   "file_extension": ".py",
   "mimetype": "text/x-python",
   "name": "python",
   "nbconvert_exporter": "python",
   "pygments_lexer": "ipython3",
   "version": "3.6.2"
  }
 },
 "nbformat": 4,
 "nbformat_minor": 2
}
