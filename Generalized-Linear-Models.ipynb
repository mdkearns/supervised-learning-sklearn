{
 "cells": [
  {
   "cell_type": "markdown",
   "metadata": {},
   "source": [
    "# Scikit-Learn: Generalized Linear Models\n",
    "\n",
    "Notebook Author: Matthew Kearns"
   ]
  },
  {
   "cell_type": "markdown",
   "metadata": {},
   "source": [
    "The following methods assume a linear relationship between the input features and the response variable. They are regression methods because they predict a real-valued (continuous) output. Logistic regression can be used for classification when the target variable is categorical."
   ]
  },
  {
   "cell_type": "markdown",
   "metadata": {},
   "source": [
    "Notebook Contents:\n",
    "    \n",
    "    - Ordinary least squares\n",
    "    - Ridge regression\n",
    "    - Lasso\n",
    "    - Elastic net\n",
    "    - Least angle regression\n",
    "    - Logistic regression\n",
    "    - Stochastic gradient descent\n",
    "    - Polynomial regression using basis functions"
   ]
  },
  {
   "cell_type": "code",
   "execution_count": 47,
   "metadata": {},
   "outputs": [],
   "source": [
    "import numpy as np\n",
    "import pandas as pd\n",
    "import matplotlib.pyplot as plt"
   ]
  },
  {
   "cell_type": "markdown",
   "metadata": {},
   "source": [
    "### Ordinary least squares"
   ]
  },
  {
   "cell_type": "code",
   "execution_count": 48,
   "metadata": {},
   "outputs": [],
   "source": [
    "from sklearn.linear_model import LinearRegression"
   ]
  },
  {
   "cell_type": "code",
   "execution_count": 49,
   "metadata": {},
   "outputs": [],
   "source": [
    "# Creating deviations from y = x\n",
    "error_train = 5 * np.random.random(50) - 2.5\n",
    "error_test = 5 * np.random.random(50) - 2.5\n",
    "\n",
    "# Create data to train model\n",
    "X_train = np.linspace(0, 10, 50)\n",
    "y_train = X_train + error_train\n",
    "\n",
    "# Create data to test model\n",
    "X_test = X_train[:]\n",
    "y_test = X_test + error_test"
   ]
  },
  {
   "cell_type": "code",
   "execution_count": 51,
   "metadata": {},
   "outputs": [],
   "source": [
    "# Fitting a linear regression model to the training data\n",
    "model = LinearRegression()\n",
    "model.fit(X_train[:, np.newaxis], y_train)\n",
    "\n",
    "# Predicting new values from trained model\n",
    "y_pred = model.predict(X_test[:, np.newaxis])"
   ]
  },
  {
   "cell_type": "code",
   "execution_count": 53,
   "metadata": {},
   "outputs": [
    {
     "data": {
      "image/png": "[encoded data removed]",
      "text/plain": [
       "<Figure size 432x288 with 1 Axes>"
      ]
     },
     "metadata": {},
     "output_type": "display_data"
    }
   ],
   "source": [
    "# Plotting the test data and the model\n",
    "fig = None\n",
    "fig = plt.scatter(X_test, y_test)\n",
    "fig = plt.plot(X_test, y_pred, 'r--')\n",
    "fig = plt.show()"
   ]
  },
  {
   "cell_type": "code",
   "execution_count": 57,
   "metadata": {},
   "outputs": [
    {
     "name": "stdout",
     "output_type": "stream",
     "text": [
      "slope: [0.97259888]\n",
      "y-intercept: 0.2762294762255504\n"
     ]
    }
   ],
   "source": [
    "# Displaying the model parameters estimated by the model\n",
    "print(\"slope:\", model.coef_)\n",
    "print(\"y-intercept:\", model.intercept_)"
   ]
  },
  {
   "cell_type": "markdown",
   "metadata": {},
   "source": [
    "### Ridge regression"
   ]
  },
  {
   "cell_type": "markdown",
   "metadata": {},
   "source": [
    "Ridge regression imposes a penalty on the size of the coefficients determined by minimizing the RSS (residual sum of squares), which tackles the problem of collinearity not handled by OLS above."
   ]
  },
  {
   "cell_type": "code",
   "execution_count": 128,
   "metadata": {},
   "outputs": [],
   "source": [
    "from sklearn.linear_model import Ridge"
   ]
  },
  {
   "cell_type": "code",
   "execution_count": 129,
   "metadata": {},
   "outputs": [],
   "source": [
    "# Creating deviations from y = x\n",
    "error_train = 5 * np.random.random(50) - 2.5\n",
    "error_test = 5 * np.random.random(50) - 2.5\n",
    "\n",
    "# Create data to train model\n",
    "X_train = np.linspace(0, 10, 50)\n",
    "y_train = X_train + error_train\n",
    "\n",
    "# Create data to test model\n",
    "X_test = X_train[:]\n",
    "y_test = X_test + error_test"
   ]
  },
  {
   "cell_type": "code",
   "execution_count": 130,
   "metadata": {},
   "outputs": [],
   "source": [
    "data = pd.DataFrame(X_train, columns=['X_train'])\n",
    "data['y_train'] = y_train\n",
    "\n",
    "# repeat rows in X_train to force collinearity\n",
    "for i in range(0, 50, 5):\n",
    "    data = data.append(data.iloc[i], ignore_index=True)\n",
    "    \n",
    "# ADD ERRORS\n",
    "\n"
   ]
  },
  {
   "cell_type": "code",
   "execution_count": 131,
   "metadata": {},
   "outputs": [],
   "source": [
    "# reassign training values\n",
    "X_train = data['X_train']\n",
    "y_train = data['y_train']"
   ]
  },
  {
   "cell_type": "code",
   "execution_count": 135,
   "metadata": {},
   "outputs": [],
   "source": [
    "# Now let's compare the performance of OLS and Ridge\n",
    "ols_model = LinearRegression()\n",
    "ridge_model = Ridge(alpha=0.25)\n",
    "\n",
    "ols_model.fit(X_train[:, np.newaxis], y_train)\n",
    "ridge_model.fit(X_train[:, np.newaxis], y_train)\n",
    "\n",
    "y_ols = ols_model.predict(X_test[:, np.newaxis])\n",
    "y_ridge = ridge_model.predict(X_test[:, np.newaxis])"
   ]
  },
  {
   "cell_type": "code",
   "execution_count": 136,
   "metadata": {},
   "outputs": [
    {
     "data": {
      "image/png": "[encoded data removed]",
      "text/plain": [
       "<Figure size 432x288 with 1 Axes>"
      ]
     },
     "metadata": {},
     "output_type": "display_data"
    }
   ],
   "source": [
    "# Visualizing the differences between OLS and Ridge\n",
    "fig = None\n",
    "fig = plt.scatter(X_test, y_test)\n",
    "fig = plt.plot(X_test, y_ols, 'y', label='OLS')\n",
    "fig = plt.plot(X_test, y_ridge, 'r:', label='Ridge')\n",
    "fig = plt.show()"
   ]
  },
  {
   "cell_type": "code",
   "execution_count": 137,
   "metadata": {},
   "outputs": [
    {
     "name": "stdout",
     "output_type": "stream",
     "text": [
      "OLS slope: [0.83710936]\n",
      "OLS y-intercept 0.6700551199821039\n",
      "Ridge slope: [0.83670784]\n",
      "Ridge y-intercept 0.6720354028596267\n"
     ]
    }
   ],
   "source": [
    "# Display model parameter estimates\n",
    "print(\"OLS slope:\", ols_model.coef_)\n",
    "print(\"OLS y-intercept\", ols_model.intercept_)\n",
    "print(\"Ridge slope:\", ridge_model.coef_)\n",
    "print(\"Ridge y-intercept\", ridge_model.intercept_)"
   ]
  },
  {
   "cell_type": "code",
   "execution_count": null,
   "metadata": {},
   "outputs": [],
   "source": []
  }
 ],
 "metadata": {
  "kernelspec": {
   "display_name": "Python 3",
   "language": "python",
   "name": "python3"
  },
  "language_info": {
   "codemirror_mode": {
    "name": "ipython",
    "version": 3
   },
   "file_extension": ".py",
   "mimetype": "text/x-python",
   "name": "python",
   "nbconvert_exporter": "python",
   "pygments_lexer": "ipython3",
   "version": "3.6.2"
  }
 },
 "nbformat": 4,
 "nbformat_minor": 2
}
